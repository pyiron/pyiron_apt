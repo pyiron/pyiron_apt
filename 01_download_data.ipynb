{
 "cells": [
  {
   "cell_type": "code",
   "execution_count": 1,
   "id": "febdd38f-148a-46e3-8756-d3222385456a",
   "metadata": {},
   "outputs": [
    {
     "name": "stdout",
     "output_type": "stream",
     "text": [
      "--2024-10-02 13:09:18--  https://gitlab.com/jesseds/apav/-/raw/JOSS/apav/tests/Si.RRNG\n",
      "Resolving gitlab.com (gitlab.com)... 172.65.251.78, 2606:4700:90:0:f22e:fbec:5bed:a9b9\n",
      "Connecting to gitlab.com (gitlab.com)|172.65.251.78|:443... connected.\n",
      "HTTP request sent, awaiting response... 200 OK\n",
      "Length: 1444 (1.4K) [text/plain]\n",
      "Saving to: ‘Si.RRNG’\n",
      "\n",
      "Si.RRNG             100%[===================>]   1.41K  --.-KB/s    in 0.001s  \n",
      "\n",
      "2024-10-02 13:09:18 (2.31 MB/s) - ‘Si.RRNG’ saved [1444/1444]\n",
      "\n",
      "--2024-10-02 13:09:19--  https://gitlab.com/jesseds/apav/-/raw/JOSS/apav/tests/Si.RNG\n",
      "Resolving gitlab.com (gitlab.com)... 172.65.251.78, 2606:4700:90:0:f22e:fbec:5bed:a9b9\n",
      "Connecting to gitlab.com (gitlab.com)|172.65.251.78|:443... connected.\n",
      "HTTP request sent, awaiting response... 200 OK\n",
      "Length: 1336 (1.3K) [text/plain]\n",
      "Saving to: ‘Si.RNG’\n",
      "\n",
      "Si.RNG              100%[===================>]   1.30K  --.-KB/s    in 0.001s  \n",
      "\n",
      "2024-10-02 13:09:19 (1.65 MB/s) - ‘Si.RNG’ saved [1336/1336]\n",
      "\n",
      "--2024-10-02 13:09:19--  https://gitlab.com/jesseds/apav/-/raw/JOSS/apav/tests/Si.apt\n",
      "Resolving gitlab.com (gitlab.com)... 172.65.251.78, 2606:4700:90:0:f22e:fbec:5bed:a9b9\n",
      "Connecting to gitlab.com (gitlab.com)|172.65.251.78|:443... connected.\n",
      "HTTP request sent, awaiting response... 200 OK\n",
      "Length: 37810040 (36M) [application/octet-stream]\n",
      "Saving to: ‘Si.apt’\n",
      "\n",
      "Si.apt              100%[===================>]  36.06M  23.1MB/s    in 1.6s    \n",
      "\n",
      "2024-10-02 13:09:21 (23.1 MB/s) - ‘Si.apt’ saved [37810040/37810040]\n",
      "\n",
      "--2024-10-02 13:09:22--  https://gitlab.com/jesseds/apav/-/raw/JOSS/apav/tests/Si.pos\n",
      "Resolving gitlab.com (gitlab.com)... 172.65.251.78, 2606:4700:90:0:f22e:fbec:5bed:a9b9\n",
      "Connecting to gitlab.com (gitlab.com)|172.65.251.78|:443... connected.\n",
      "HTTP request sent, awaiting response... 200 OK\n",
      "Length: 15123376 (14M) [application/octet-stream]\n",
      "Saving to: ‘Si.pos’\n",
      "\n",
      "Si.pos              100%[===================>]  14.42M  19.5MB/s    in 0.7s    \n",
      "\n",
      "2024-10-02 13:09:23 (19.5 MB/s) - ‘Si.pos’ saved [15123376/15123376]\n",
      "\n"
     ]
    }
   ],
   "source": [
    "! wget https://gitlab.com/jesseds/apav/-/raw/JOSS/apav/tests/Si.RRNG\n",
    "! wget https://gitlab.com/jesseds/apav/-/raw/JOSS/apav/tests/Si.RNG\n",
    "! wget https://gitlab.com/jesseds/apav/-/raw/JOSS/apav/tests/Si.apt\n",
    "! wget https://gitlab.com/jesseds/apav/-/raw/JOSS/apav/tests/Si.pos"
   ]
  },
  {
   "cell_type": "code",
   "execution_count": null,
   "id": "576a3fc6-0da3-4e1c-af43-320fbd56ddda",
   "metadata": {},
   "outputs": [],
   "source": []
  }
 ],
 "metadata": {
  "kernelspec": {
   "display_name": "Python 3 (ipykernel)",
   "language": "python",
   "name": "python3"
  },
  "language_info": {
   "codemirror_mode": {
    "name": "ipython",
    "version": 3
   },
   "file_extension": ".py",
   "mimetype": "text/x-python",
   "name": "python",
   "nbconvert_exporter": "python",
   "pygments_lexer": "ipython3",
   "version": "3.12.6"
  }
 },
 "nbformat": 4,
 "nbformat_minor": 5
}
